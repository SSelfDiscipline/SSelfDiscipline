{
 "cells": [
  {
   "cell_type": "code",
   "execution_count": 5,
   "metadata": {},
   "outputs": [],
   "source": [
    "\n",
    "import xml.etree.ElementTree as ET"
   ]
  },
  {
   "cell_type": "code",
   "execution_count": 35,
   "metadata": {},
   "outputs": [],
   "source": [
    "path = '1.xml'"
   ]
  },
  {
   "cell_type": "code",
   "execution_count": 3,
   "metadata": {},
   "outputs": [],
   "source": [
    "with open(path, 'rb') as f:\n",
    "    xml_str = f.read()"
   ]
  },
  {
   "cell_type": "code",
   "execution_count": 4,
   "metadata": {},
   "outputs": [
    {
     "data": {
      "text/plain": [
       "b'<annotation>\\r\\n   <path>./data\\\\Town01\\\\rgb0\\\\1.jpg</path>\\r\\n   <bbox_num>2</bbox_num>\\r\\n   <size>\\r\\n       <width>1080</width>\\r\\n       <height>1080</height>\\r\\n       <depth>3</depth>\\r\\n   </size>\\r\\n   <object>\\r\\n       <name>Vehicle</name>\\r\\n       <label_id>2</label_id>\\r\\n       <bndbox>\\r\\n           <xmin>0</xmin>\\r\\n           <ymin>551</ymin>\\r\\n           <xmax>133</xmax>\\r\\n           <ymax>625</ymax>\\r\\n       </bndbox>\\r\\n   </object>\\r\\n   <object>\\r\\n       <name>Roadline</name>\\r\\n       <label_id>4</label_id>\\r\\n       <bndbox>\\r\\n           <xmin>0</xmin>\\r\\n           <ymin>811</ymin>\\r\\n           <xmax>198</xmax>\\r\\n           <ymax>1016</ymax>\\r\\n       </bndbox>\\r\\n   </object>\\r\\n</annotation>\\r\\n'"
      ]
     },
     "execution_count": 4,
     "metadata": {},
     "output_type": "execute_result"
    }
   ],
   "source": [
    "xml_str"
   ]
  },
  {
   "cell_type": "code",
   "execution_count": null,
   "metadata": {},
   "outputs": [],
   "source": []
  },
  {
   "cell_type": "code",
   "execution_count": 36,
   "metadata": {},
   "outputs": [],
   "source": [
    "tree = ET.parse(path)"
   ]
  },
  {
   "cell_type": "code",
   "execution_count": 37,
   "metadata": {},
   "outputs": [
    {
     "data": {
      "text/plain": [
       "<xml.etree.ElementTree.ElementTree at 0x25b3de23850>"
      ]
     },
     "execution_count": 37,
     "metadata": {},
     "output_type": "execute_result"
    }
   ],
   "source": [
    "tree"
   ]
  },
  {
   "cell_type": "code",
   "execution_count": 38,
   "metadata": {},
   "outputs": [],
   "source": [
    "root = tree.getroot()"
   ]
  },
  {
   "cell_type": "code",
   "execution_count": 39,
   "metadata": {},
   "outputs": [
    {
     "data": {
      "text/plain": [
       "<Element 'size' at 0x0000025B3E049A90>"
      ]
     },
     "execution_count": 39,
     "metadata": {},
     "output_type": "execute_result"
    }
   ],
   "source": [
    "size = root.find('size')\n",
    "size"
   ]
  },
  {
   "cell_type": "code",
   "execution_count": 10,
   "metadata": {},
   "outputs": [],
   "source": [
    "w = int(size.find('width').text)"
   ]
  },
  {
   "cell_type": "code",
   "execution_count": 13,
   "metadata": {},
   "outputs": [],
   "source": [
    "h = int(size.find('height').text)"
   ]
  },
  {
   "cell_type": "code",
   "execution_count": 14,
   "metadata": {},
   "outputs": [
    {
     "data": {
      "text/plain": [
       "1080"
      ]
     },
     "execution_count": 14,
     "metadata": {},
     "output_type": "execute_result"
    }
   ],
   "source": [
    "h"
   ]
  },
  {
   "cell_type": "code",
   "execution_count": 12,
   "metadata": {},
   "outputs": [
    {
     "data": {
      "text/plain": [
       "1080"
      ]
     },
     "execution_count": 12,
     "metadata": {},
     "output_type": "execute_result"
    }
   ],
   "source": [
    "w"
   ]
  },
  {
   "cell_type": "code",
   "execution_count": 40,
   "metadata": {},
   "outputs": [
    {
     "name": "stdout",
     "output_type": "stream",
     "text": [
      "<Element 'object' at 0x0000025B3E049770>\n",
      "<Element 'object' at 0x0000025B3E04E5E0>\n"
     ]
    }
   ],
   "source": [
    "for x in root.iter('object'):\n",
    "    print(x)\n",
    "    "
   ]
  },
  {
   "cell_type": "code",
   "execution_count": 17,
   "metadata": {},
   "outputs": [
    {
     "data": {
      "text/plain": [
       "<_elementtree._element_iterator at 0x25b3dec2ae0>"
      ]
     },
     "execution_count": 17,
     "metadata": {},
     "output_type": "execute_result"
    }
   ],
   "source": [
    "a"
   ]
  },
  {
   "cell_type": "code",
   "execution_count": 23,
   "metadata": {},
   "outputs": [],
   "source": [
    "yolo_path = './1.txt'"
   ]
  },
  {
   "cell_type": "code",
   "execution_count": null,
   "metadata": {},
   "outputs": [],
   "source": []
  },
  {
   "cell_type": "code",
   "execution_count": 56,
   "metadata": {},
   "outputs": [],
   "source": [
    "# yolo_boxs = []\n",
    "for obj in root.iter('object'):\n",
    "    bbox = obj.find('bndbox')\n",
    "    b = (\n",
    "        int(bbox.find('xmin').text),\n",
    "        int(bbox.find('ymin').text),\n",
    "        int(bbox.find('xmax').text),\n",
    "        int(bbox.find('ymax').text),\n",
    "    )\n",
    "    label_id = obj.find('label_id').text\n",
    "\n",
    "    bb = convert((w, h), b)\n",
    "    # yolo_boxs.append((label_id, bb))\n",
    "    # 不进行覆盖。继续在后面写\n",
    "    with open(yolo_path, 'a') as f:\n",
    "        # for yolo_box in yolo_boxs:\n",
    "        #     label_id, bb = yolo_box\n",
    "        f.write(f'{label_id} {bb[0]} {bb[1]} {bb[2]} {bb[3]}\\n')\n"
   ]
  },
  {
   "cell_type": "code",
   "execution_count": 54,
   "metadata": {},
   "outputs": [],
   "source": [
    "with open(yolo_path, 'a') as f:\n",
    "    for yolo_box in yolo_boxs:\n",
    "        label_id, bb = yolo_box\n",
    "    f.write(f'{label_id} {bb[0]} {bb[1]} {bb[2]} {bb[3]}\\n')"
   ]
  },
  {
   "cell_type": "code",
   "execution_count": null,
   "metadata": {},
   "outputs": [],
   "source": []
  },
  {
   "cell_type": "code",
   "execution_count": 53,
   "metadata": {},
   "outputs": [
    {
     "data": {
      "text/plain": [
       "[('2', (0.255093, 0.350926, 0.510185, 0.455556)),\n",
       " ('4', (0.375463, 0.562037, 0.750926, 0.757407))]"
      ]
     },
     "execution_count": 53,
     "metadata": {},
     "output_type": "execute_result"
    }
   ],
   "source": [
    "yolo_boxs"
   ]
  },
  {
   "cell_type": "code",
   "execution_count": null,
   "metadata": {},
   "outputs": [],
   "source": []
  },
  {
   "cell_type": "code",
   "execution_count": null,
   "metadata": {},
   "outputs": [],
   "source": []
  },
  {
   "cell_type": "code",
   "execution_count": 44,
   "metadata": {},
   "outputs": [],
   "source": [
    "\n",
    "def convert(size, box):\n",
    "    \"\"\"将边界框坐标从VOC格式转换为YOLO格式\"\"\"\n",
    "    dw = 1. / size[0]\n",
    "    dh = 1. / size[1]\n",
    "    x = (box[0] + box[1]) / 2\n",
    "    y = (box[2] + box[3]) / 2\n",
    "    w = box[1] - box[0]\n",
    "    h = box[3] - box[2]\n",
    "    # 保留6位小数\n",
    "    x = round(x * dw,6)\n",
    "    w = round(w * dw,6)\n",
    "    y = round(y * dh,6)\n",
    "    h = round(h * dh,6)\n",
    "    return (x, y, w, h)"
   ]
  }
 ],
 "metadata": {
  "kernelspec": {
   "display_name": "pytorch",
   "language": "python",
   "name": "python3"
  },
  "language_info": {
   "codemirror_mode": {
    "name": "ipython",
    "version": 3
   },
   "file_extension": ".py",
   "mimetype": "text/x-python",
   "name": "python",
   "nbconvert_exporter": "python",
   "pygments_lexer": "ipython3",
   "version": "3.9.17"
  }
 },
 "nbformat": 4,
 "nbformat_minor": 2
}
